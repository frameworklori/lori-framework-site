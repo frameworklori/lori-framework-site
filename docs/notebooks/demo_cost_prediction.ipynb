# 📊 Demo: Cost Prediction & Drug Price Comparison

import pandas as pd
from src.models.drug_price_tracker import get_price_by_drug
from src.models.plot_price_comparison import plot_price_comparison

insulin_prices = get_price_by_drug("Insulin", "public/data/drug_prices.csv")
print("Insulin prices:", insulin_prices)

plot_price_comparison("Insulin", "public/data/drug_prices.csv")

from sklearn.linear_model import LinearRegression
import matplotlib.pyplot as plt

data = pd.read_csv("public/data/sample_input.csv")
subset = data[(data['ethnicity'] == 'Hispanic') & (data['category'] == 'Emergency')]

X = subset[['income', 'population', 'medicaid_access', 'undocumented_status', 'fertility_rate']]
y = subset['social_costs']

model = LinearRegression().fit(X, y)
pred = model.predict(X)

plt.plot(pred)
plt.title("Emergency Cost Prediction (Hispanic)")
plt.ylabel("Cost (USD)")
plt.show()



