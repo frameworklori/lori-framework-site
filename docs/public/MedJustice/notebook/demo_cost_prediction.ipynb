{
"cells": [
{
"cell_type": "markdown",
"metadata": {},
"source": [
"# 📊 Demo: Cost Prediction & Drug Price Comparison"
]
},
{
"cell_type": "code",
"execution_count": null,
"metadata": {},
"outputs": [],
"source": [
"import pandas as pd\n",
"from src.models.drug_price_tracker import get_price_by_drug\n",
"from src.models.plot_price_comparison import plot_price_comparison\n",
"\n",
"# 載入藥價比較\n",
"insulin_prices = get_price_by_drug(\"Insulin\", \"public/data/drug_prices.csv\")\n",
"print(\"Insulin prices:\", insulin_prices)\n",
"\n",
"# 繪圖比較\n",
"plot_price_comparison(\"Insulin\", \"public/data/drug_prices.csv\")"
]
},
{
"cell_type": "code",
"execution_count": null,
"metadata": {},
"outputs": [],
"source": [
"from sklearn.linear_model import LinearRegression\n",
"import matplotlib.pyplot as plt\n",
"\n",
"# 載入模擬資料\n",
"data = pd.read_csv(\"public/data/sample_input.csv\")\n",
"\n",
"# 選擇族群與預測急診支出\n",
"subset = data[(data['ethnicity'] == 'Hispanic') & (data['category'] == 'Emergency')]\n",
"\n",
"X = subset[['income', 'population', 'medicaid_access', 'undocumented_status', 'fertility_rate']]\n",
"y = subset['social_costs']\n",
"\n",
"# 模型建構與預測\n",
"model = LinearRegression().fit(X, y)\n",
"pred = model.predict(X)\n",
"\n",
"plt.plot(pred)\n",
"plt.title(\"Emergency Cost Prediction (Hispanic)\")\n",
"plt.ylabel(\"Cost (USD)\")\n",
"plt.show()"
]
}
],
"metadata": {
"kernelspec": {
"display_name": "Python 3",
"language": "python",
"name": "python3"
},
"language_info": {
"name": "python",
"version": "3.9"
}
},
"nbformat": 4,
"nbformat_minor": 5
}
